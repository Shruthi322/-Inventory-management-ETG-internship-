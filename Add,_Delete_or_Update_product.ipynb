{
  "nbformat": 4,
  "nbformat_minor": 0,
  "metadata": {
    "colab": {
      "name": "Add, Delete or Update product",
      "provenance": [],
      "collapsed_sections": []
    },
    "kernelspec": {
      "name": "python3",
      "display_name": "Python 3"
    },
    "language_info": {
      "name": "python"
    }
  },
  "cells": [
    {
      "cell_type": "code",
      "metadata": {
        "id": "_-0xG2BXCNmc"
      },
      "source": [
        "import json"
      ],
      "execution_count": null,
      "outputs": []
    },
    {
      "cell_type": "code",
      "metadata": {
        "id": "iQAYQjcCRmeh"
      },
      "source": [
        "products={\"1001\": {\"name\": \"Choco Cake\", \"qn\": 26, \"pr\": 100, \"category\":\"food\"},\n",
        "          \"1002\": {\"name\": \"Milk Cake\", \"pr\": 300, \"qn\": 100, \"category\":\"food\" },\n",
        "          \"1003\": {\"name\": \"Drink\", \"pr\": 85, \"qn\": 100, \"category\":\"food\"},\n",
        "          \"1004\": {\"name\": \"Candy\", \"pr\": 5, \"qn\": 1000, \"category\":\"food\"},\n",
        "          \"1005\": {\"name\": \"Pen\", \"pr\": 20, \"qn\": 100, \"category\":\"stationery\"}, \n",
        "          \"1006\": {\"name\": \"Phone\", \"pr\": 50000, \"qn\": 10, \"category\":\"gadget\"},\n",
        "          \"1007\": {\"name\": \"Pencil\", \"pr\": 30, \"qn\": 14, \"category\":\"stationery\"}, \n",
        "          \"1008\": {\"name\": \"Scale\", \"pr\": 30, \"qn\": 5, \"category\":\"stationery\"}, \n",
        "          \"1009\": {\"name\": \"Keyboard\", \"pr\": 1999, \"qn\": 10, \"category\":\"gadget\"}, \n",
        "          \"1010\": {\"name\": \"Lays\", \"pr\": 30, \"qn\": 40, \"category\":\"food\"},\n",
        "          \"1011\": {\"name\": \"Harry potter\", \"pr\": 300, \"qn\": 40, \"category\":\"book\"}}"
      ],
      "execution_count": null,
      "outputs": []
    },
    {
      "cell_type": "code",
      "metadata": {
        "id": "3lZ6-4BA5-w2"
      },
      "source": [
        "txt=json.dumps(products)\n",
        "f=open('record.json','w')\n",
        "f.write(txt)\n",
        "f.close()"
      ],
      "execution_count": null,
      "outputs": []
    },
    {
      "cell_type": "code",
      "metadata": {
        "id": "YDdvrzI290wK",
        "colab": {
          "base_uri": "https://localhost:8080/"
        },
        "outputId": "22a8f3d6-1372-4c55-84fa-893d19c90a55"
      },
      "source": [
        "print(txt)"
      ],
      "execution_count": null,
      "outputs": [
        {
          "output_type": "stream",
          "name": "stdout",
          "text": [
            "{\"1001\": {\"name\": \"Choco Cake\", \"qn\": 26, \"pr\": 100, \"category\": \"food\"}, \"1002\": {\"name\": \"Milk Cake\", \"pr\": 300, \"qn\": 100, \"category\": \"food\"}, \"1003\": {\"name\": \"Drink\", \"pr\": 85, \"qn\": 100, \"category\": \"food\"}, \"1004\": {\"name\": \"Candy\", \"pr\": 5, \"qn\": 1000, \"category\": \"food\"}, \"1005\": {\"name\": \"Pen\", \"pr\": 20, \"qn\": 100, \"category\": \"stationery\"}, \"1006\": {\"name\": \"Phone\", \"pr\": 50000, \"qn\": 10, \"category\": \"gadget\"}, \"1007\": {\"name\": \"Pencil\", \"pr\": 30, \"qn\": 14, \"category\": \"stationery\"}, \"1008\": {\"name\": \"Scale\", \"pr\": 30, \"qn\": 5, \"category\": \"stationery\"}, \"1009\": {\"name\": \"Keyboard\", \"pr\": 1999, \"qn\": 10, \"category\": \"gadget\"}, \"1010\": {\"name\": \"Lays\", \"pr\": 30, \"qn\": 40, \"category\": \"food\"}, \"1011\": {\"name\": \"Harry potter\", \"pr\": 300, \"qn\": 40, \"category\": \"book\"}}\n"
          ]
        }
      ]
    },
    {
      "cell_type": "code",
      "metadata": {
        "id": "zIAgd1pcCSuy"
      },
      "source": [
        "#DISPLAY THE PRODUCTS\n",
        "def display_product():\n",
        "    for i in products:\n",
        "        print(\"ID: \"+str(i) )\n",
        "        print(\"Name: \"+products[i]['name'])\n",
        "        print(\"Quantity: \"+str(products[i]['qn']))\n",
        "        print(\"Price: \" +str(products[i]['pr']))\n",
        "        print(\"Category: \" +str(products[i]['category'])+\"\\n\")\n"
      ],
      "execution_count": null,
      "outputs": []
    },
    {
      "cell_type": "code",
      "metadata": {
        "id": "zx_AqdC-D9ed"
      },
      "source": [
        "# ADD A PRODUCT\n",
        "def add_product():\n",
        "    p_id=str(1001+len(products))\n",
        "    p_name=str(input(\"Enter product name: \"))\n",
        "    pr=int(input(\"Enter price: \"))\n",
        "    qn=int(input(\"Enter quantity: \"))\n",
        "    c=str(input(\"Enter category: \"))\n",
        "    products[p_id]={'name':p_name,'pr':pr,'qn':qn,'category':c}\n",
        "    print(\"You have successfuly added the product:\"+p_name+\" with stock:\"+str(qn)+\" ,price:\"+str(pr)+\" rupees \"+\"and category: \"+c)\n",
        "    js=json.dumps(products)\n",
        "    f=open('record.json','w')\n",
        "    f.write(js)\n",
        "    f.close()"
      ],
      "execution_count": null,
      "outputs": []
    },
    {
      "cell_type": "code",
      "metadata": {
        "id": "6ZlFagfOpah2"
      },
      "source": [
        "# UPDATE PRODUCT QUANTITY  (updates the quantity of an exsisting product)\n",
        "\n",
        "def update_qty():\n",
        "    id=str(input(\"Enter product id: \"))\n",
        "    if (id not in products.keys()):\n",
        "      print(\"Enter a valid id!\")\n",
        "    else:\n",
        "      qty=int(input(\"Enter the quantity to be added to the exsisting stock: \"))\n",
        "      products[id][\"qn\"]+=qty\n",
        "      print(\"You have successfully updated the product: \"+products[id]['name']+ \"stock to \"+str(products[id][\"qn\"]))\n",
        "    js=json.dumps(products)\n",
        "    f=open('record.json','w')\n",
        "    f.write(js)\n",
        "    f.close()"
      ],
      "execution_count": null,
      "outputs": []
    },
    {
      "cell_type": "code",
      "metadata": {
        "id": "1MMbwTPliHWZ"
      },
      "source": [
        "# DELETE A PRODUCT\n",
        "\n",
        "def delete_product():\n",
        "   id=str(input(\"Enter the product id to be deleted: \"))\n",
        "   if(id not in products.keys()):\n",
        "       print(\"Enter a valid id\")\n",
        "   else:\n",
        "       print(\"You have successfully deleted the product: \"+products[id][\"name\"])\n",
        "       products.pop(id)\n",
        "   js=json.dumps(products)\n",
        "   f=open('record.json','w')\n",
        "   f.write(js)\n",
        "   f.close()\n",
        "       "
      ],
      "execution_count": null,
      "outputs": []
    },
    {
      "cell_type": "code",
      "metadata": {
        "id": "mUBNXMaJHKHv"
      },
      "source": [
        "# UPDATE PRODUCT PRICE  (Decrement or increment the exsisting price of the product)\n",
        "\n",
        "def update_price():\n",
        "    id=str(input(\"Enter product id: \"))\n",
        "    if (id not in products.keys()):\n",
        "      print(\"Enter valid id\")\n",
        "    else:\n",
        "        price=int(input(\"Enter new price: \"))\n",
        "        products[id][\"pr\"]=price\n",
        "        print(\"You have successfully updated the product price to \"+str(products[id]['pr'])+\" rupees.\")\n",
        "    js=json.dumps(products)\n",
        "    f=open('record.json','w')\n",
        "    f.write(js)\n",
        "    f.close()"
      ],
      "execution_count": null,
      "outputs": []
    },
    {
      "cell_type": "code",
      "metadata": {
        "id": "-P7rAuG4qD0Z",
        "colab": {
          "base_uri": "https://localhost:8080/"
        },
        "outputId": "664fb054-1b08-4232-ee65-33517b81e804"
      },
      "source": [
        "if __name__ == '__main__':\n",
        "          choice=1\n",
        "          while(choice!=0):\n",
        "            print(\"*******************************************************************\")\n",
        "            print(\"               WELCOME TO INVENTORY MANAGEMENT SYSTEM              \")\n",
        "            print(\"*******************************************************************\")\n",
        "            print(\"To Display the products--------------------------Enter 1\")\n",
        "            print(\"To Add a new product-----------------------------Enter 2\")\n",
        "            print(\"To Delete a product------------------------------Enter 3\")\n",
        "            print(\"To Update the quantity of an exsisting product---Enter 4\")\n",
        "            print(\"To Update the price of a product-----------------Enter 5\")\n",
        "            print(\"To End the system--------------------------------Enter 0\")\n",
        "            choice=int(input(\"Enter your choice: \"))\n",
        "            if choice==1:\n",
        "                display_product()\n",
        "            elif choice==2:\n",
        "                add_product()\n",
        "            elif choice==3:\n",
        "                delete_product()\n",
        "            elif choice==4:\n",
        "                update_qty()\n",
        "            elif choice==5:\n",
        "                update_price()\n",
        "            elif choice==0:\n",
        "              print(\"...................Thank you!........................\")\n",
        "            else:\n",
        "              print(\"Please enter a valid choice!\")"
      ],
      "execution_count": null,
      "outputs": [
        {
          "output_type": "stream",
          "name": "stdout",
          "text": [
            "*******************************************************************\n",
            "               WELCOME TO INVENTORY MANAGEMENT SYSTEM              \n",
            "*******************************************************************\n",
            "To Display the products--------------------------Enter 1\n",
            "To Add a new product-----------------------------Enter 2\n",
            "To Delete a product------------------------------Enter 3\n",
            "To Update the quantity of an exsisting product---Enter 4\n",
            "To Update the price of a product-----------------Enter 5\n",
            "To End the system--------------------------------Enter 0\n",
            "Enter your choice: 0\n",
            "...................Thank you!........................\n"
          ]
        }
      ]
    },
    {
      "cell_type": "code",
      "metadata": {
        "id": "Iw7JttC2t0Y2"
      },
      "source": [
        ""
      ],
      "execution_count": null,
      "outputs": []
    }
  ]
}