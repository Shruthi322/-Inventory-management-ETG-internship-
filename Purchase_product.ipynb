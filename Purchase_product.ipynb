{
  "nbformat": 4,
  "nbformat_minor": 0,
  "metadata": {
    "colab": {
      "name": "Purchase product",
      "provenance": [],
      "collapsed_sections": []
    },
    "kernelspec": {
      "name": "python3",
      "display_name": "Python 3"
    },
    "language_info": {
      "name": "python"
    }
  },
  "cells": [
    {
      "cell_type": "code",
      "metadata": {
        "id": "5C-Pu2pA6dW7"
      },
      "source": [
        "import json\n",
        "from datetime import datetime"
      ],
      "execution_count": null,
      "outputs": []
    },
    {
      "cell_type": "code",
      "metadata": {
        "colab": {
          "base_uri": "https://localhost:8080/"
        },
        "id": "5Qr0NPUR6gM5",
        "outputId": "09773511-a220-476c-a27c-3d07b45c1534"
      },
      "source": [
        "f=open(\"record.json\",'r')\n",
        "r=f.read()\n",
        "f.close\n",
        "products=json .loads(r)\n",
        "print(products)"
      ],
      "execution_count": null,
      "outputs": [
        {
          "output_type": "stream",
          "name": "stdout",
          "text": [
            "{'1001': {'name': 'Choco Cake', 'qn': 26, 'pr': 100, 'category': 'food'}, '1002': {'name': 'Milk Cake', 'pr': 300, 'qn': 100, 'category': 'food'}, '1003': {'name': 'Drink', 'pr': 85, 'qn': 100, 'category': 'food'}, '1004': {'name': 'Candy', 'pr': 5, 'qn': 1000, 'category': 'food'}, '1005': {'name': 'Pen', 'pr': 20, 'qn': 100, 'category': 'stationery'}, '1006': {'name': 'Phone', 'pr': 50000, 'qn': 10, 'category': 'gadget'}, '1007': {'name': 'Pencil', 'pr': 30, 'qn': 14, 'category': 'stationery'}, '1008': {'name': 'Scale', 'pr': 30, 'qn': 5, 'category': 'stationery'}, '1009': {'name': 'Keyboard', 'pr': 1999, 'qn': 10, 'category': 'gadget'}, '1010': {'name': 'Lays', 'pr': 30, 'qn': 40, 'category': 'food'}, '1011': {'name': 'Harry potter', 'pr': 300, 'qn': 40, 'category': 'book'}, '1012': {'name': 'The girl on the train', 'pr': 400, 'qn': 10, 'category': 'book'}, '1013': {'name': 'kitkat', 'pr': 30, 'qn': 40, 'category': 'food'}, '1014': {'name': 'kurkure', 'pr': 35, 'qn': 20, 'category': 'food'}, '1015': {'name': 'geometry box', 'pr': 100, 'qn': 30, 'category': 'stationery'}, '1016': {'name': 'sharpener', 'pr': 30, 'qn': 50, 'category': 'stationery'}, '1017': {'name': 'Eraser', 'pr': 20, 'qn': 40, 'category': 'stationery'}, '1018': {'name': 'diary milk', 'pr': 60, 'qn': 20, 'category': 'food'}, '1019': {'name': 'Think like a monk', 'pr': 600, 'qn': 10, 'category': 'book'}, '1020': {'name': 'Atomic habits', 'pr': 550, 'qn': 7, 'category': 'book'}, '1021': {'name': 'oreo', 'pr': 30, 'qn': 60, 'category': 'food'}, '1022': {'name': 'The alchemist', 'pr': 300, 'qn': 15, 'category': 'book'}, '1023': {'name': 'sketch pens', 'pr': 100, 'qn': 40, 'category': 'stationery'}, '1024': {'name': 'USB type-c cable', 'pr': 450, 'qn': 11, 'category': 'gadget'}, '1025': {'name': 'digital alarm clock', 'pr': 550, 'qn': 10, 'category': 'gadget'}, '1026': {'name': 'portable speaker', 'pr': 4000, 'qn': 5, 'category': 'gadget'}, '1027': {'name': 'snickers', 'pr': 50, 'qn': 25, 'category': 'food'}, '1028': {'name': 'coffee powder', 'pr': 30, 'qn': 50, 'category': 'food'}, '1029': {'name': 'The silent patient', 'pr': 450, 'qn': 10, 'category': 'book'}, '1030': {'name': 'Fault in our stars', 'pr': 470, 'qn': 8, 'category': 'book'}}\n"
          ]
        }
      ]
    },
    {
      "cell_type": "code",
      "metadata": {
        "id": "hEkWOuVw8yfX"
      },
      "source": [
        "#DISPLAY THE PRODUCTS\n",
        "def display_product():\n",
        "    for i in products:\n",
        "        print(\"ID: \"+str(i) )\n",
        "        print(\"Name: \"+products[i]['name'])\n",
        "        print(\"Quantity: \"+str(products[i]['qn']))\n",
        "        print(\"Price: \" +str(products[i]['pr']))\n",
        "        print(\"Category: \" +str(products[i]['category'])+\"\\n\")\n"
      ],
      "execution_count": null,
      "outputs": []
    },
    {
      "cell_type": "code",
      "metadata": {
        "id": "oRTgzy2xBpH7"
      },
      "source": [
        "sales={}"
      ],
      "execution_count": null,
      "outputs": []
    },
    {
      "cell_type": "code",
      "metadata": {
        "id": "E6mzaRIiavOE"
      },
      "source": [
        "# PURCHASE MULTIPLE PRODUCTS AND DISPLAY TOTAL BILL\n",
        "\n",
        "def purchase():\n",
        "    amount=0\n",
        "    i=1\n",
        "    purchased_products={}\n",
        "    customer_name=input(\"Enter your name: \")\n",
        "    while(i==1):\n",
        "          id=str(input(\"Enter product ID: \"))\n",
        "          qty=int(input(\"Enter quantity: \"))\n",
        "          if (id in products.keys()):\n",
        "              if (products[id]['qn']==0):  #if there is no stock\n",
        "                  print(\"Product out of stock!.....\")\n",
        "\n",
        "              elif (products[id]['qn']<qty):\n",
        "                  print(\"Exceeding the stock......Enter a lesser quantity\")  # when stock of the product is lesser\n",
        "              else :  \n",
        "                  products[id]['qn']-=qty\n",
        "                  amount=amount+qty*products[id]['pr']\n",
        "                  name=products[id]['name']\n",
        "                  purchased_products[name]={\"qn\":qty,\"pr\":qty*products[id]['pr']}\n",
        "                  sales[len(sales)+1]={'p_name': products[id]['name'],'qty':products[id]['qn'],'total_amount':qty*products[id]['pr']}\n",
        "                  \n",
        "\n",
        "              \n",
        "              k=int(input(\"\\nDo u want to purchase another product---if yes then enter 1 else enter 0? \")) # To purchase multiple products\n",
        "              if k==0:\n",
        "                  key=input(\"Do you want a copy of the purchase bill?---y/n\")\n",
        "                  now = datetime.now()\n",
        "                  dt_string = now.strftime(\"%d/%m/%Y %H:%M:%S\")\n",
        "                  l=dt_string.split(\" \")\n",
        "                  print(\" \")\n",
        "                  print(\"------------------------------- Purchase Bill --------------------------------------\")\n",
        "                  print(\"------------------------------------------------------------------------------------\")\n",
        "                  print(\"Customer name: \"+customer_name+\"            Date: \"+l[0]+\"             Time: \"+l[1]  )\n",
        "                  print(\"------------------------------------------------------------------------------------\")\n",
        "                  print(\"\\n\" )\n",
        "                  for i in purchased_products:\n",
        "                    print(\"name: \"+i+\"   qty: \"+str(purchased_products[i][\"qn\"])+\"   amount: \"+str(purchased_products[i][\"pr\"]))\n",
        "                  print(\"\\n----------------------------------------------------------------------------------\")\n",
        "                  print(\" Total amount to be paid = \"+str(amount))\n",
        "                  print(\"------------------------------------------------------------------------------------\")\n",
        "                  print(\"\\nThank you! Do purchase again\")\n",
        "                  i=0\n",
        "                  if(key==\"y\"):\n",
        "                     fd=open('Bill.txt','w')\n",
        "                     fd.write(\" Purchase Bill \")\n",
        "                     fd.write(\"\\n\")\n",
        "                     fd.write(\"\\n\")\n",
        "                     fd.write(\"Customer name: \"+customer_name)\n",
        "                     fd.write(\"\\n\")\n",
        "                     fd.write(\"Date: \"+l[0])\n",
        "                     fd.write(\"\\n\")\n",
        "                     fd.write(\"Time: \"+l[1])\n",
        "                     fd.write(\"\\n\")\n",
        "                     fd.write(\"\\n\")\n",
        "                  for i in purchased_products:\n",
        "                    fd.write(\"name: \"+i+\"   qty: \"+str(purchased_products[i][\"qn\"])+\"   amount: \"+str(purchased_products[i][\"pr\"]))\n",
        "                    fd.write(\"\\n\")                 \n",
        "                  fd.write(\"\\n----------------------------------------------------------------------------------\")\n",
        "                  fd.write(\"\\n Total amount to be paid = \"+str(amount))\n",
        "                  fd.write(\"\\n----------------------------------------------------------------------------------\")\n",
        "                  fd.write(\"\\nThank you! Do purchase again\")\n",
        "                  fd.close()\n",
        "                      \n",
        "          else:\n",
        "            print(\"enter a valid index\")\n",
        "    \n",
        "    \n",
        "    txt1=json.dumps(products)\n",
        "    f=open('record.json','w')\n",
        "    f.write(txt1)\n",
        "    f.close()\n",
        "\n",
        "    txt2=json.dumps(sales)\n",
        "    f=open(\"sales.json\",'w')\n",
        "    f.write(txt2)\n",
        "    \n"
      ],
      "execution_count": null,
      "outputs": []
    },
    {
      "cell_type": "code",
      "metadata": {
        "id": "P2CKf5NeS7GZ"
      },
      "source": [
        "if __name__ == \"__main__\":\n",
        "      choice=1\n",
        "      while(choice!=0):\n",
        "            print(\"*******************************************************************\")\n",
        "            print(\"                 WELCOME TO THE INVENTORY              \")\n",
        "            print(\"*******************************************************************\")\n",
        "            print(\"To Display the products-------------------------- Enter 1\")\n",
        "            print(\"To Purchase the products--------------------------Enter 2\")\n",
        "            print(\"End-----------------------------------------------Enter 0\")\n",
        "            choice=int(input(\"Enter your choice: \"))\n",
        "            if choice==1:\n",
        "                display_product()\n",
        "            elif choice==2:\n",
        "                purchase()\n",
        "            elif choice==0:\n",
        "                print(\".......................................................\")\n",
        "            else:\n",
        "              print(\"Enter a valid choice\")"
      ],
      "execution_count": null,
      "outputs": []
    }
  ]
}